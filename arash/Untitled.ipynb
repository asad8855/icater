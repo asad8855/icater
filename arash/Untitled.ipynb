{
 "cells": [
  {
   "cell_type": "code",
   "execution_count": 32,
   "metadata": {},
   "outputs": [
    {
     "data": {
      "text/plain": [
       "([{'item_description': 'Deep fried calamaries served with Aioli sauce',\n",
       "   'item_name': 'Fried Calamary',\n",
       "   'item_price': 9.0,\n",
       "   'restaurant_id': 6},\n",
       "  {'item_description': 'Deep fried shrimps served with sweet chili sauce',\n",
       "   'item_name': 'Fried Shrimp',\n",
       "   'item_price': 10.0,\n",
       "   'restaurant_id': 6},\n",
       "  {'item_description': 'Tuna Tartar served with avocado and tomatoes',\n",
       "   'item_name': 'Tuna Tartar',\n",
       "   'item_price': 12.0,\n",
       "   'restaurant_id': 6},\n",
       "  {'item_description': 'Buffalo Mozarella served with olive oil',\n",
       "   'item_name': 'Buffalo Mozzarella',\n",
       "   'item_price': 11.0,\n",
       "   'restaurant_id': 6},\n",
       "  {'item_description': 'Thin sliced meat',\n",
       "   'item_name': 'Carpaccio',\n",
       "   'item_price': 15.0,\n",
       "   'restaurant_id': 6},\n",
       "  {'item_description': 'Fresh and firm, sushi grade',\n",
       "   'item_name': 'Tuna',\n",
       "   'item_price': 15.0,\n",
       "   'restaurant_id': 6},\n",
       "  {'item_description': 'Hearty and Filling',\n",
       "   'item_name': 'Chicken Pot Pie',\n",
       "   'item_price': 13.0,\n",
       "   'restaurant_id': 6},\n",
       "  {'item_description': 'Fresh garlic butter herb sauce!',\n",
       "   'item_name': 'Pasta over Shrimp Scampi',\n",
       "   'item_price': 18.0,\n",
       "   'restaurant_id': 6},\n",
       "  {'item_description': 'Aged for 40 days!',\n",
       "   'item_name': 'Filet Mignon',\n",
       "   'item_price': 40.0,\n",
       "   'restaurant_id': 6},\n",
       "  {'item_description': 'Soft drink',\n",
       "   'item_name': 'Coke',\n",
       "   'item_price': 2.0,\n",
       "   'restaurant_id': 6},\n",
       "  {'item_description': 'Soft drink',\n",
       "   'item_name': 'Diet Coke',\n",
       "   'item_price': 2.0,\n",
       "   'restaurant_id': 6},\n",
       "  {'item_description': 'Soft drink',\n",
       "   'item_name': 'Coke Zero',\n",
       "   'item_price': 2.0,\n",
       "   'restaurant_id': 6},\n",
       "  {'item_description': 'Soft drink',\n",
       "   'item_name': 'Orange Juice',\n",
       "   'item_price': 3.0,\n",
       "   'restaurant_id': 6},\n",
       "  {'item_description': 'Soft drink',\n",
       "   'item_name': 'Sprite',\n",
       "   'item_price': 2.0,\n",
       "   'restaurant_id': 6}],\n",
       " 6)"
      ]
     },
     "execution_count": 32,
     "metadata": {},
     "output_type": "execute_result"
    }
   ],
   "source": [
    "from flask import Flask, render_template, request, session, url_for, redirect\n",
    "import pymysql.cursors\n",
    "import hashlib\n",
    "\n",
    "globUser = None\n",
    "\n",
    "def computeMD5hash(string):\n",
    "    m = hashlib.md5()\n",
    "    m.update(string.encode('utf-8'))\n",
    "    return m.hexdigest()\n",
    "\n",
    "\n",
    "app =Flask(__name__)\n",
    "app.secret_key = 'A0Zr98j/3yX R~XHH!jmN]LWX/,?RT'\n",
    "\n",
    "conn = pymysql.connect(host='websys3.stern.nyu.edu',\n",
    "                       user='websysF17GB2',\n",
    "                       password='websysF17GB2!!',\n",
    "                       db='websysF17GB2',\n",
    "                       charset='utf8mb4', use_unicode = True,\n",
    "                       cursorclass=pymysql.cursors.DictCursor)\n",
    "\n",
    "#Define a route to index\n",
    "#chekc if user is in session\n",
    "def index(rest_id):\n",
    "    cursor = conn.cursor()\n",
    "    query = 'SELECT * FROM appetizers_menu WHERE restaurant_id = %s UNION ALL SELECT * FROM mains_menu WHERE restaurant_id = %s UNION ALL SELECT * FROM desserts_menu WHERE restaurant_id = %s UNION ALL SELECT * FROM other_menu WHERE restaurant_id = %s;'\n",
    "    cursor.execute(query,(rest_id,rest_id,rest_id,rest_id,))\n",
    "    nextThreeDays = cursor.fetchall()\n",
    "    cursor.close()\n",
    "    error = None\n",
    "    return(nextThreeDays, rest_id)\n",
    "\n",
    "index(6)"
   ]
  },
  {
   "cell_type": "code",
   "execution_count": null,
   "metadata": {
    "collapsed": true
   },
   "outputs": [],
   "source": []
  }
 ],
 "metadata": {
  "kernelspec": {
   "display_name": "Python 3",
   "language": "python",
   "name": "python3"
  },
  "language_info": {
   "codemirror_mode": {
    "name": "ipython",
    "version": 3
   },
   "file_extension": ".py",
   "mimetype": "text/x-python",
   "name": "python",
   "nbconvert_exporter": "python",
   "pygments_lexer": "ipython3",
   "version": "3.6.3"
  }
 },
 "nbformat": 4,
 "nbformat_minor": 2
}
